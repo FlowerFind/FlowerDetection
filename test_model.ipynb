{
 "cells": [
  {
   "cell_type": "code",
   "execution_count": 1,
   "metadata": {},
   "outputs": [
    {
     "name": "stderr",
     "output_type": "stream",
     "text": [
      "Using TensorFlow backend.\n"
     ]
    }
   ],
   "source": [
    "import os\n",
    "\n",
    "import keras\n",
    "import tensorflow as tf\n",
    "from tensorflow import lite\n",
    "from tensorflow.keras.optimizers import RMSprop\n",
    "from keras.preprocessing import image\n",
    "import matplotlib.pyplot as plt\n",
    "import numpy as np\n",
    "\n",
    "from flask import Flask, request, jsonify"
   ]
  },
  {
   "cell_type": "code",
   "execution_count": 2,
   "metadata": {},
   "outputs": [],
   "source": [
    "def flowerDiscrimination() :\n",
    "\n",
    "    # 저장된 JSON 파일로 부터 모델 로드하기\n",
    "    json_file = open(\"model,weight/model_50.json\", \"r\") \n",
    "    loaded_model_json = json_file.read() \n",
    "    json_file.close() \n",
    "    loaded_model = tf.keras.models.model_from_json(loaded_model_json)\n",
    "\n",
    "    # 로드한 모델에 Weight 로드하기\n",
    "    keras_file=\"model,weight/flower_50.h5\"\n",
    "    loaded_model.load_weights (keras_file)\n",
    "\n",
    "    # 로드한 모델 컴파일\n",
    "    loaded_model.compile(loss = \"categorical_crossentropy\", optimizer = RMSprop(lr=0.001), metrics = ['accuracy'])\n",
    "    \n",
    "    img=image.load_img(\"test_img.jpg\",target_size=(300,300))\n",
    "    x=image.img_to_array(img)\n",
    "    x=np.expand_dims(x, axis=0)\n",
    "    images = np.vstack([x])\n",
    "\n",
    "    ## 예측\n",
    "    sonuc = loaded_model.predict(images, batch_size=10)\n",
    "    a=np.argmax(sonuc)\n",
    "    print(a)\n",
    "    if a==0:\n",
    "        return \"daisy\"\n",
    "    if a==1:\n",
    "        return \"dandelion\"\n",
    "    if a==2:\n",
    "        return \"rose\"\n",
    "    if a==3:\n",
    "        return \"sunflower\"\n",
    "    if a==4:\n",
    "        return \"tulip\""
   ]
  },
  {
   "cell_type": "code",
   "execution_count": null,
   "metadata": {},
   "outputs": [
    {
     "name": "stdout",
     "output_type": "stream",
     "text": [
      " * Serving Flask app \"__main__\" (lazy loading)\n",
      " * Environment: production\n",
      "   WARNING: Do not use the development server in a production environment.\n",
      "   Use a production WSGI server instead.\n",
      " * Debug mode: off\n"
     ]
    },
    {
     "name": "stderr",
     "output_type": "stream",
     "text": [
      " * Running on http://127.0.0.1:5000/ (Press CTRL+C to quit)\n",
      "127.0.0.1 - - [10/Jun/2020 15:30:42] \"\u001b[37mPOST /discrimination HTTP/1.1\u001b[0m\" 200 -\n"
     ]
    },
    {
     "name": "stdout",
     "output_type": "stream",
     "text": [
      "2\n"
     ]
    },
    {
     "name": "stderr",
     "output_type": "stream",
     "text": [
      "127.0.0.1 - - [10/Jun/2020 15:30:59] \"\u001b[1m\u001b[31mGET /discrimination HTTP/1.1\u001b[0m\" 405 -\n",
      "127.0.0.1 - - [10/Jun/2020 15:30:59] \"\u001b[33mGET /favicon.ico HTTP/1.1\u001b[0m\" 404 -\n",
      "127.0.0.1 - - [10/Jun/2020 15:31:07] \"\u001b[1m\u001b[31mGET /discrimination HTTP/1.1\u001b[0m\" 405 -\n",
      "127.0.0.1 - - [10/Jun/2020 15:31:10] \"\u001b[37mPOST /discrimination HTTP/1.1\u001b[0m\" 200 -\n"
     ]
    },
    {
     "name": "stdout",
     "output_type": "stream",
     "text": [
      "2\n"
     ]
    },
    {
     "name": "stderr",
     "output_type": "stream",
     "text": [
      "127.0.0.1 - - [10/Jun/2020 15:33:14] \"\u001b[37mPOST /discrimination HTTP/1.1\u001b[0m\" 200 -\n"
     ]
    },
    {
     "name": "stdout",
     "output_type": "stream",
     "text": [
      "2\n"
     ]
    }
   ],
   "source": [
    "app = Flask(__name__)\n",
    " \n",
    "@app.route('/flower', methods = ['POST'])\n",
    "def flower():\n",
    "    user = request.get_json()\n",
    "    return jsonify({\"result\": \"rose\"})\n",
    "\n",
    "@app.route('/discrimination', methods = ['POST'])\n",
    "def discrimination():\n",
    "    f = request.files['file']\n",
    "    f.save(\"test_img.jpg\")\n",
    "    \n",
    "    result = flowerDiscrimination()\n",
    "    \n",
    "    return jsonify({\"result\": result})\n",
    " \n",
    "app.run()"
   ]
  },
  {
   "cell_type": "code",
   "execution_count": null,
   "metadata": {},
   "outputs": [],
   "source": []
  }
 ],
 "metadata": {
  "kernelspec": {
   "display_name": "Python 3",
   "language": "python",
   "name": "python3"
  },
  "language_info": {
   "codemirror_mode": {
    "name": "ipython",
    "version": 3
   },
   "file_extension": ".py",
   "mimetype": "text/x-python",
   "name": "python",
   "nbconvert_exporter": "python",
   "pygments_lexer": "ipython3",
   "version": "3.6.7"
  }
 },
 "nbformat": 4,
 "nbformat_minor": 4
}

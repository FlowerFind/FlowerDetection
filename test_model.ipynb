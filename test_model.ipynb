{
 "cells": [
  {
   "cell_type": "code",
   "execution_count": 17,
   "metadata": {},
   "outputs": [],
   "source": [
    "import os\n",
    "\n",
    "import keras\n",
    "#from keras.models import model_from_json \n",
    "\n",
    "import tensorflow as tf\n",
    "from tensorflow import lite\n",
    "from tensorflow.keras.optimizers import RMSprop\n",
    "from tensorflow.keras.preprocessing.image import ImageDataGenerator\n",
    "from keras.preprocessing import image\n",
    "from shutil import copyfile\n",
    "import matplotlib.pyplot as plt\n",
    "import numpy as np"
   ]
  },
  {
   "cell_type": "code",
   "execution_count": 18,
   "metadata": {},
   "outputs": [
    {
     "name": "stdout",
     "output_type": "stream",
     "text": [
      "[1. 0. 0. 0. 0.]\n",
      "0\n",
      "0\n",
      "it is a daisy\n",
      "[1. 0. 0. 0. 0.]\n",
      "0\n",
      "0\n",
      "it is a daisy\n",
      "[0. 0. 0. 0. 1.]\n",
      "4\n",
      "4\n",
      "it is a tulip\n",
      "[0. 0. 0. 1. 0.]\n",
      "3\n",
      "3\n",
      "it is a sunflower\n",
      "[0. 0. 0. 0. 1.]\n",
      "4\n",
      "4\n",
      "it is a tulip\n"
     ]
    }
   ],
   "source": [
    "# 저장된 JSON 파일로 부터 모델 로드하기\n",
    "json_file = open(\"model.json\", \"r\") \n",
    "loaded_model_json = json_file.read() \n",
    "json_file.close() \n",
    "loaded_model = tf.keras.models.model_from_json(loaded_model_json)\n",
    "\n",
    "# 로드한 모델에 Weight 로드하기\n",
    "keras_file=\"flower.h5\"\n",
    "loaded_model.load_weights (keras_file)\n",
    "\n",
    "# 로드한 모델 컴파일\n",
    "loaded_model.compile(loss = \"categorical_crossentropy\", optimizer = RMSprop(lr=0.001), metrics = ['accuracy'])\n",
    "\n",
    "\n",
    "# TEST\n",
    "test_path = [\"test/daisy_test.jpg\",\"test/dandelion_test.jpg\",\"test/rose_test.jpg\",\"test/sunflower_test.jpg\",\"test/tulip_test.jpg\"]\n",
    "\n",
    "for path in test_path : \n",
    "    \n",
    "    img=image.load_img(path,target_size=(300,300))\n",
    "    x=image.img_to_array(img)\n",
    "    x=np.expand_dims(x, axis=0)\n",
    "    images = np.vstack([x])\n",
    "\n",
    "    ## 예측\n",
    "    sonuc = loaded_model.predict(images, batch_size=10)\n",
    "    print(sonuc[0])\n",
    "    print(np.argmax(sonuc))\n",
    "    a=np.argmax(sonuc)\n",
    "    print(a)\n",
    "    if a==0:\n",
    "        print(\"it is a daisy\")\n",
    "    if a==1:\n",
    "        print(\"it is a dandelion\")\n",
    "    if a==2:\n",
    "        print(\"it is a rose\")\n",
    "    if a==3:\n",
    "        print(\"it is a sunflower\")\n",
    "    if a==4:\n",
    "        print(\"it is a tulip\")"
   ]
  }
 ],
 "metadata": {
  "kernelspec": {
   "display_name": "Python 3",
   "language": "python",
   "name": "python3"
  },
  "language_info": {
   "codemirror_mode": {
    "name": "ipython",
    "version": 3
   },
   "file_extension": ".py",
   "mimetype": "text/x-python",
   "name": "python",
   "nbconvert_exporter": "python",
   "pygments_lexer": "ipython3",
   "version": "3.6.7"
  }
 },
 "nbformat": 4,
 "nbformat_minor": 4
}

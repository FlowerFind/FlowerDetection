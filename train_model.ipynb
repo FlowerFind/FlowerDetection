{
 "cells": [
  {
   "cell_type": "code",
   "execution_count": 1,
   "metadata": {},
   "outputs": [
    {
     "name": "stderr",
     "output_type": "stream",
     "text": [
      "Using TensorFlow backend.\n"
     ]
    }
   ],
   "source": [
    "# -*- coding: utf-8 -*-\n",
    "\n",
    "import os # 운영체제에 제공되는 기본적인 기능 제공, 디렉터리 접근, 생성 등\n",
    "import zipfile # 압축 파일 관련 처리\n",
    "import random # 샘플 추출\n",
    "import tensorflow as tf\n",
    "\n",
    "# from A import B : 모듈의 중복 예방, 호출 단순화\n",
    "from tensorflow import lite # 텐서플로 라이트. 모바일,임베디드에 사용 가능하도록 경량화. 학습된 데이터(모델링)를 이용하는 용도\n",
    "from tensorflow.keras.optimizers import RMSprop\n",
    "from tensorflow.keras.preprocessing.image import ImageDataGenerator\n",
    "from keras.preprocessing import image\n",
    "from shutil import copyfile\n",
    "import matplotlib.pyplot as plt # 데이터 시각화\n",
    "import numpy as np"
   ]
  },
  {
   "cell_type": "code",
   "execution_count": 2,
   "metadata": {},
   "outputs": [],
   "source": [
    "\"\"\"==========\n",
    "   dataset 가져오기\n",
    "   ==========\"\"\"\n",
    "\n",
    "liste = [\"daisy\",\"dandelion\",\"rose\",\"sunflower\",\"tulip\",\"marigold\", \"buttercup\", \"camellia\", \"수국\", \"나팔꽃\", \"코스모스\", \"유칼립투스\" ]\n",
    "         \n",
    "\n",
    "# training, testing 폴더 만들기\n",
    "try :\n",
    "    os.mkdir(\"db/training\")\n",
    "    os.mkdir(\"db/testing\")\n",
    "\n",
    "except OSError :\n",
    "    pass\n",
    "\n",
    "# training, testing 하단에 각각의 꽃 폴더 만들기\n",
    "for variety in liste :\n",
    "    try :\n",
    "        os.mkdir(\"db/training/\" + variety)\n",
    "        os.mkdir(\"db/testing/\" + variety)\n",
    "    except OSError :\n",
    "        pass\n"
   ]
  },
  {
   "cell_type": "code",
   "execution_count": 3,
   "metadata": {},
   "outputs": [],
   "source": [
    "def split_data(SOURCE, TRAINING,TESTING,SPLIT_SIZE) :\n",
    "    files = []\n",
    "    for filename in os.listdir(SOURCE) :\n",
    "        file = SOURCE + filename\n",
    "        if os.path.getsize(file) > 0 :\n",
    "            files.append(filename)\n",
    "        else :\n",
    "            print(filename + \"is zero length, so ignoring\")\n",
    "\n",
    "    training_length = int(len(files) * SPLIT_SIZE)\n",
    "    testing_length = int(len(files) - training_length)\n",
    "    shuffled_set = random.sample(files,len(files)) # 컬렉션에서 일부를 샘플링해서 뽑아냄. sample(컬랙션, 샘플수). 리스트 셔플 용도로 쓰임\n",
    "    training_set = shuffled_set[0:training_length]\n",
    "    testing_set = shuffled_set[-testing_length:]\n",
    "    \n",
    "    for filename in training_set :\n",
    "        this_file = SOURCE + filename\n",
    "        destination = TRAINING + filename\n",
    "        copyfile(this_file,destination)\n",
    "    \n",
    "    for filename in testing_set :\n",
    "        this_file = SOURCE + filename\n",
    "        destination = TESTING + filename\n",
    "        copyfile(this_file,destination)"
   ]
  },
  {
   "cell_type": "code",
   "execution_count": 4,
   "metadata": {},
   "outputs": [
    {
     "name": "stdout",
     "output_type": "stream",
     "text": [
      "Found 5046 images belonging to 12 classes.\n",
      "Found 1267 images belonging to 12 classes.\n"
     ]
    }
   ],
   "source": [
    "\"\"\"==========\n",
    "   train, test dataset 만들기\n",
    "   ==========\"\"\"\n",
    "\n",
    "split_size = .8\n",
    "\n",
    "for name in liste :\n",
    "    SOURCE_DIR = \"db/\" + name + \"/\"\n",
    "    TRAINING_DIR = \"db/training/\" + name + \"/\"\n",
    "    TESTING_DIR = \"db/testing/\" + name + \"/\"\n",
    "    \n",
    "    split_data(SOURCE_DIR,TRAINING_DIR,TESTING_DIR,split_size)\n",
    "    # 각각의 꽃마다 split_data 함수 실행\n",
    "    # source : \n",
    "    # training : \n",
    "    # testing : \n",
    "\n",
    "\n",
    "# training\n",
    "TRAINING_DIR = \"db/training/\"\n",
    "training_datagen = ImageDataGenerator(\n",
    "        rescale = 1./255,\n",
    "        rotation_range=40,\n",
    "        width_shift_range=0.2,\n",
    "        height_shift_range=0.2,\n",
    "        shear_range=0.2,\n",
    "        zoom_range=0.2,\n",
    "        horizontal_flip=True,\n",
    "        fill_mode='nearest')\n",
    "\n",
    "training_generator = training_datagen.flow_from_directory(\n",
    "        TRAINING_DIR,\n",
    "        target_size = (300,300),\n",
    "        class_mode = \"categorical\")\n",
    "\n",
    "# testing\n",
    "TESTING_DIR = \"db/testing/\"\n",
    "testing_datagen = ImageDataGenerator(rescale = 1./255)\n",
    "\n",
    "testing_generator = testing_datagen.flow_from_directory(\n",
    "        TESTING_DIR,\n",
    "        target_size = (300,300),\n",
    "        class_mode = \"categorical\")"
   ]
  },
  {
   "cell_type": "code",
   "execution_count": 5,
   "metadata": {},
   "outputs": [],
   "source": [
    "\"\"\"==========\n",
    "   모델 구성하기\n",
    "   ==========\"\"\"\n",
    "\n",
    "model = tf.keras.models.Sequential([\n",
    "        tf.keras.layers.Conv2D(64, (3,3), activation = \"relu\", input_shape = (300,300,3)),\n",
    "        tf.keras.layers.MaxPooling2D(2,2),\n",
    "        tf.keras.layers.Conv2D(64, (3,3), activation = \"relu\"),\n",
    "        tf.keras.layers.MaxPooling2D(2,2),\n",
    "        tf.keras.layers.Conv2D(128, (3,3), activation = \"relu\"),\n",
    "        tf.keras.layers.MaxPooling2D(2,2),\n",
    "        tf.keras.layers.Conv2D(128, (3,3), activation = \"relu\"),\n",
    "        tf.keras.layers.MaxPooling2D(2,2),\n",
    "        \n",
    "        tf.keras.layers.Flatten(),\n",
    "        tf.keras.layers.Dropout(0.5),\n",
    "        tf.keras.layers.Dense(1024, activation = \"relu\"),\n",
    "        tf.keras.layers.Dense(12, activation = \"softmax\")\n",
    "        ])"
   ]
  },
  {
   "cell_type": "code",
   "execution_count": 6,
   "metadata": {},
   "outputs": [
    {
     "name": "stdout",
     "output_type": "stream",
     "text": [
      "Model: \"sequential\"\n",
      "_________________________________________________________________\n",
      "Layer (type)                 Output Shape              Param #   \n",
      "=================================================================\n",
      "conv2d (Conv2D)              (None, 298, 298, 64)      1792      \n",
      "_________________________________________________________________\n",
      "max_pooling2d (MaxPooling2D) (None, 149, 149, 64)      0         \n",
      "_________________________________________________________________\n",
      "conv2d_1 (Conv2D)            (None, 147, 147, 64)      36928     \n",
      "_________________________________________________________________\n",
      "max_pooling2d_1 (MaxPooling2 (None, 73, 73, 64)        0         \n",
      "_________________________________________________________________\n",
      "conv2d_2 (Conv2D)            (None, 71, 71, 128)       73856     \n",
      "_________________________________________________________________\n",
      "max_pooling2d_2 (MaxPooling2 (None, 35, 35, 128)       0         \n",
      "_________________________________________________________________\n",
      "conv2d_3 (Conv2D)            (None, 33, 33, 128)       147584    \n",
      "_________________________________________________________________\n",
      "max_pooling2d_3 (MaxPooling2 (None, 16, 16, 128)       0         \n",
      "_________________________________________________________________\n",
      "flatten (Flatten)            (None, 32768)             0         \n",
      "_________________________________________________________________\n",
      "dropout (Dropout)            (None, 32768)             0         \n",
      "_________________________________________________________________\n",
      "dense (Dense)                (None, 1024)              33555456  \n",
      "_________________________________________________________________\n",
      "dense_1 (Dense)              (None, 12)                12300     \n",
      "=================================================================\n",
      "Total params: 33,827,916\n",
      "Trainable params: 33,827,916\n",
      "Non-trainable params: 0\n",
      "_________________________________________________________________\n"
     ]
    }
   ],
   "source": [
    "\"\"\"==========\n",
    "   모델 학습과정 설정하기\n",
    "   ==========\"\"\"\n",
    "\n",
    "model.compile(loss = \"categorical_crossentropy\", optimizer = RMSprop(lr=0.001), metrics = ['accuracy'])\n",
    "model.summary()"
   ]
  },
  {
   "cell_type": "code",
   "execution_count": 7,
   "metadata": {},
   "outputs": [
    {
     "name": "stdout",
     "output_type": "stream",
     "text": [
      "WARNING:tensorflow:From <ipython-input-7-c8afec7b0881>:8: Model.fit_generator (from tensorflow.python.keras.engine.training) is deprecated and will be removed in a future version.\n",
      "Instructions for updating:\n",
      "Please use Model.fit, which supports generators.\n",
      "WARNING:tensorflow:sample_weight modes were coerced from\n",
      "  ...\n",
      "    to  \n",
      "  ['...']\n",
      "WARNING:tensorflow:sample_weight modes were coerced from\n",
      "  ...\n",
      "    to  \n",
      "  ['...']\n",
      "Train for 158 steps, validate for 40 steps\n",
      "Epoch 1/30\n",
      "158/158 [==============================] - 765s 5s/step - loss: 2.5364 - accuracy: 0.2701 - val_loss: 1.6341 - val_accuracy: 0.3923\n",
      "Epoch 2/30\n",
      "158/158 [==============================] - 762s 5s/step - loss: 1.6275 - accuracy: 0.4193 - val_loss: 1.7270 - val_accuracy: 0.4262\n",
      "Epoch 3/30\n",
      "158/158 [==============================] - 794s 5s/step - loss: 1.4953 - accuracy: 0.4746 - val_loss: 1.2585 - val_accuracy: 0.5667\n",
      "Epoch 4/30\n",
      "158/158 [==============================] - 799s 5s/step - loss: 1.3859 - accuracy: 0.5085 - val_loss: 1.3075 - val_accuracy: 0.5556\n",
      "Epoch 5/30\n",
      "158/158 [==============================] - 796s 5s/step - loss: 1.3192 - accuracy: 0.5369 - val_loss: 1.2739 - val_accuracy: 0.5706\n",
      "Epoch 6/30\n",
      "158/158 [==============================] - 794s 5s/step - loss: 1.2680 - accuracy: 0.5612 - val_loss: 1.2298 - val_accuracy: 0.5998\n",
      "Epoch 7/30\n",
      "158/158 [==============================] - 796s 5s/step - loss: 1.2150 - accuracy: 0.5828 - val_loss: 1.0515 - val_accuracy: 0.6511\n",
      "Epoch 8/30\n",
      "158/158 [==============================] - 793s 5s/step - loss: 1.1559 - accuracy: 0.6138 - val_loss: 1.1632 - val_accuracy: 0.5975\n",
      "Epoch 9/30\n",
      "158/158 [==============================] - 787s 5s/step - loss: 1.1430 - accuracy: 0.6112 - val_loss: 1.0591 - val_accuracy: 0.6346\n",
      "Epoch 10/30\n",
      "158/158 [==============================] - 794s 5s/step - loss: 1.1132 - accuracy: 0.6247 - val_loss: 1.1210 - val_accuracy: 0.6551\n",
      "Epoch 11/30\n",
      "158/158 [==============================] - 790s 5s/step - loss: 1.1019 - accuracy: 0.6348 - val_loss: 1.1180 - val_accuracy: 0.6519\n",
      "Epoch 12/30\n",
      "158/158 [==============================] - 788s 5s/step - loss: 1.0777 - accuracy: 0.6348 - val_loss: 1.1271 - val_accuracy: 0.6756\n",
      "Epoch 13/30\n",
      "158/158 [==============================] - 784s 5s/step - loss: 1.0771 - accuracy: 0.6439 - val_loss: 0.9510 - val_accuracy: 0.7024\n",
      "Epoch 14/30\n",
      "158/158 [==============================] - 781s 5s/step - loss: 1.0492 - accuracy: 0.6526 - val_loss: 0.8394 - val_accuracy: 0.7064\n",
      "Epoch 15/30\n",
      "158/158 [==============================] - 781s 5s/step - loss: 1.0383 - accuracy: 0.6534 - val_loss: 0.9799 - val_accuracy: 0.6803\n",
      "Epoch 16/30\n",
      "158/158 [==============================] - 785s 5s/step - loss: 1.0208 - accuracy: 0.6566 - val_loss: 1.0577 - val_accuracy: 0.6930\n",
      "Epoch 17/30\n",
      "158/158 [==============================] - 787s 5s/step - loss: 1.0448 - accuracy: 0.6615 - val_loss: 1.2918 - val_accuracy: 0.6614\n",
      "Epoch 18/30\n",
      "158/158 [==============================] - 785s 5s/step - loss: 1.0379 - accuracy: 0.6679 - val_loss: 1.0587 - val_accuracy: 0.6725\n",
      "Epoch 19/30\n",
      "158/158 [==============================] - 787s 5s/step - loss: 0.9968 - accuracy: 0.6665 - val_loss: 0.9953 - val_accuracy: 0.7017\n",
      "Epoch 20/30\n",
      "158/158 [==============================] - 791s 5s/step - loss: 1.0246 - accuracy: 0.6724 - val_loss: 1.2017 - val_accuracy: 0.7017\n",
      "Epoch 21/30\n",
      "158/158 [==============================] - 793s 5s/step - loss: 1.0186 - accuracy: 0.6698 - val_loss: 1.4469 - val_accuracy: 0.6835\n",
      "Epoch 22/30\n",
      "158/158 [==============================] - 794s 5s/step - loss: 1.0644 - accuracy: 0.6605 - val_loss: 1.1074 - val_accuracy: 0.6717\n",
      "Epoch 23/30\n",
      "158/158 [==============================] - 798s 5s/step - loss: 1.0212 - accuracy: 0.6714 - val_loss: 1.1603 - val_accuracy: 0.6448\n",
      "Epoch 24/30\n",
      "158/158 [==============================] - 795s 5s/step - loss: 1.0292 - accuracy: 0.6776 - val_loss: 1.0290 - val_accuracy: 0.7301\n",
      "Epoch 25/30\n",
      "158/158 [==============================] - 798s 5s/step - loss: 1.0275 - accuracy: 0.6788 - val_loss: 0.9423 - val_accuracy: 0.7182\n",
      "Epoch 26/30\n",
      "158/158 [==============================] - 796s 5s/step - loss: 1.0047 - accuracy: 0.6819 - val_loss: 0.9075 - val_accuracy: 0.7182\n",
      "Epoch 27/30\n",
      "158/158 [==============================] - 799s 5s/step - loss: 1.0339 - accuracy: 0.6748 - val_loss: 1.2472 - val_accuracy: 0.7190\n",
      "Epoch 28/30\n",
      "158/158 [==============================] - 801s 5s/step - loss: 1.0177 - accuracy: 0.6784 - val_loss: 1.1190 - val_accuracy: 0.6646\n",
      "Epoch 29/30\n",
      "158/158 [==============================] - 800s 5s/step - loss: 1.0277 - accuracy: 0.6786 - val_loss: 0.9748 - val_accuracy: 0.6875\n",
      "Epoch 30/30\n",
      "158/158 [==============================] - 801s 5s/step - loss: 1.0592 - accuracy: 0.6669 - val_loss: 1.0325 - val_accuracy: 0.7174\n"
     ]
    }
   ],
   "source": [
    "\"\"\"==========\n",
    "   모델 학습하기\n",
    "   ==========\"\"\"\n",
    "\n",
    "history = model.fit_generator(training_generator,\n",
    "                              epochs = 30,\n",
    "                              validation_data = testing_generator,\n",
    "                              verbose = 1)"
   ]
  },
  {
   "cell_type": "code",
   "execution_count": 8,
   "metadata": {},
   "outputs": [],
   "source": [
    "# 모델 저장\n",
    "model_json = model.to_json()\n",
    "with open(\"model_new.json\", \"w\") as json_file : \n",
    "    json_file.write(model_json)\n",
    "\n",
    "# 모델 weight 저장\n",
    "keras_file=\"flower_new.h5\"\n",
    "model.save(keras_file)"
   ]
  },
  {
   "cell_type": "code",
   "execution_count": 9,
   "metadata": {},
   "outputs": [
    {
     "ename": "KeyError",
     "evalue": "'acc'",
     "output_type": "error",
     "traceback": [
      "\u001b[0;31m---------------------------------------------------------------------------\u001b[0m",
      "\u001b[0;31mKeyError\u001b[0m                                  Traceback (most recent call last)",
      "\u001b[0;32m<ipython-input-9-e0c2d26f7fa1>\u001b[0m in \u001b[0;36m<module>\u001b[0;34m\u001b[0m\n\u001b[1;32m     10\u001b[0m \u001b[0mloss_ax\u001b[0m\u001b[0;34m.\u001b[0m\u001b[0mplot\u001b[0m\u001b[0;34m(\u001b[0m\u001b[0mhistory\u001b[0m\u001b[0;34m.\u001b[0m\u001b[0mhistory\u001b[0m\u001b[0;34m[\u001b[0m\u001b[0;34m'val_loss'\u001b[0m\u001b[0;34m]\u001b[0m\u001b[0;34m,\u001b[0m \u001b[0;34m'r'\u001b[0m\u001b[0;34m,\u001b[0m \u001b[0mlabel\u001b[0m\u001b[0;34m=\u001b[0m\u001b[0;34m'val loss'\u001b[0m\u001b[0;34m)\u001b[0m\u001b[0;34m\u001b[0m\u001b[0;34m\u001b[0m\u001b[0m\n\u001b[1;32m     11\u001b[0m \u001b[0;34m\u001b[0m\u001b[0m\n\u001b[0;32m---> 12\u001b[0;31m \u001b[0macc_ax\u001b[0m\u001b[0;34m.\u001b[0m\u001b[0mplot\u001b[0m\u001b[0;34m(\u001b[0m\u001b[0mhistory\u001b[0m\u001b[0;34m.\u001b[0m\u001b[0mhistory\u001b[0m\u001b[0;34m[\u001b[0m\u001b[0;34m'acc'\u001b[0m\u001b[0;34m]\u001b[0m\u001b[0;34m,\u001b[0m \u001b[0;34m'b'\u001b[0m\u001b[0;34m,\u001b[0m \u001b[0mlabel\u001b[0m\u001b[0;34m=\u001b[0m\u001b[0;34m'train acc'\u001b[0m\u001b[0;34m)\u001b[0m\u001b[0;34m\u001b[0m\u001b[0;34m\u001b[0m\u001b[0m\n\u001b[0m\u001b[1;32m     13\u001b[0m \u001b[0macc_ax\u001b[0m\u001b[0;34m.\u001b[0m\u001b[0mplot\u001b[0m\u001b[0;34m(\u001b[0m\u001b[0mhistory\u001b[0m\u001b[0;34m.\u001b[0m\u001b[0mhistory\u001b[0m\u001b[0;34m[\u001b[0m\u001b[0;34m'val_acc'\u001b[0m\u001b[0;34m]\u001b[0m\u001b[0;34m,\u001b[0m \u001b[0;34m'g'\u001b[0m\u001b[0;34m,\u001b[0m \u001b[0mlabel\u001b[0m\u001b[0;34m=\u001b[0m\u001b[0;34m'val acc'\u001b[0m\u001b[0;34m)\u001b[0m\u001b[0;34m\u001b[0m\u001b[0;34m\u001b[0m\u001b[0m\n\u001b[1;32m     14\u001b[0m \u001b[0;34m\u001b[0m\u001b[0m\n",
      "\u001b[0;31mKeyError\u001b[0m: 'acc'"
     ]
    },
    {
     "data": {
      "image/png": "[encoded data removed]",
      "text/plain": [
       "<Figure size 432x288 with 2 Axes>"
      ]
     },
     "metadata": {
      "needs_background": "light"
     },
     "output_type": "display_data"
    }
   ],
   "source": [
    "# 모델 학습 그래프 확인\n",
    "%matplotlib inline\n",
    "import matplotlib.pyplot as plt\n",
    "\n",
    "fig, loss_ax = plt.subplots()\n",
    "\n",
    "acc_ax = loss_ax.twinx()\n",
    "\n",
    "loss_ax.plot(history.history['loss'], 'y', label='train loss')\n",
    "loss_ax.plot(history.history['val_loss'], 'r', label='val loss')\n",
    "\n",
    "acc_ax.plot(history.history['acc'], 'b', label='train acc')\n",
    "acc_ax.plot(history.history['val_acc'], 'g', label='val acc')\n",
    "\n",
    "loss_ax.set_xlabel('epoch')\n",
    "loss_ax.set_ylabel('loss')\n",
    "acc_ax.set_ylabel('accuray')\n",
    "\n",
    "loss_ax.legend(loc='upper left')\n",
    "acc_ax.legend(loc='lower left')\n",
    "\n",
    "plt.show()"
   ]
  },
  {
   "cell_type": "markdown",
   "metadata": {},
   "source": []
  },
  {
   "cell_type": "code",
   "execution_count": null,
   "metadata": {},
   "outputs": [],
   "source": []
  }
 ],
 "metadata": {
  "kernelspec": {
   "display_name": "Python 3",
   "language": "python",
   "name": "python3"
  },
  "language_info": {
   "codemirror_mode": {
    "name": "ipython",
    "version": 3
   },
   "file_extension": ".py",
   "mimetype": "text/x-python",
   "name": "python",
   "nbconvert_exporter": "python",
   "pygments_lexer": "ipython3",
   "version": "3.6.7"
  }
 },
 "nbformat": 4,
 "nbformat_minor": 4
}
